{
 "cells": [
  {
   "cell_type": "markdown",
   "metadata": {},
   "source": [
    "# Data Cleaning\n"
   ]
  },
  {
   "cell_type": "code",
   "execution_count": 1,
   "metadata": {},
   "outputs": [],
   "source": [
    "import numpy as np\n",
    "import pandas as pd\n",
    "import matplotlib.pyplot as plt\n",
    "import seaborn as sns\n",
    "import string\n",
    "\n",
    "df = pd.read_csv('7282_1.csv')\n",
    "## Rename columns \n",
    "df.rename(columns = {'reviews.rating':'ratings', 'reviews.text':'reviews','reviews.username':'username'}, inplace = True)\n",
    "\n",
    "## drop null values\n",
    "df.dropna(subset=['ratings'], inplace=True)\n",
    "df.dropna(subset=['reviews'], inplace=True)\n",
    "\n",
    "## drop duplicates\n",
    "df.drop_duplicates(subset=['username'])\n",
    "df.dropna(subset=['ratings'], inplace=True)\n",
    "\n",
    "## standardize the ratings\n",
    "filtered_values = df.loc[df['ratings'] > 5, 'ratings']\n",
    "# Divide the filtered values by 2\n",
    "filtered_values_divided = filtered_values / 2\n",
    "# Update the original DataFrame with the new values\n",
    "df.loc[df['ratings'] > 5, 'ratings'] = filtered_values_divided\n",
    "\n",
    "\n",
    "## categorizing ratings\n",
    "df.loc[(df['ratings'] >= 4.5), 'ratings'] = 5.0\n",
    "\n",
    "df.loc[(df['ratings'] >= 3.5) & (df['ratings'] < 4.5), 'ratings'] = 4.0\n",
    "\n",
    "df.loc[(df['ratings'] >= 2.5) & (df['ratings'] < 3.5), 'ratings'] = 3.0\n",
    "\n",
    "df.loc[(df['ratings'] >= 1.5) & (df['ratings'] < 2.5), 'ratings'] = 2.0\n",
    "\n",
    "df.loc[(df['ratings'] >= 0.5) & (df['ratings'] < 1.5), 'ratings'] = 1.0\n",
    "\n",
    "df.loc[(df['ratings'] < 0.5), 'ratings'] = 0.0\n"
   ]
  },
  {
   "cell_type": "markdown",
   "metadata": {},
   "source": [
    "# Preprocessing data"
   ]
  },
  {
   "cell_type": "code",
   "execution_count": 2,
   "metadata": {},
   "outputs": [
    {
     "name": "stderr",
     "output_type": "stream",
     "text": [
      "[nltk_data] Downloading package stopwords to\n",
      "[nltk_data]     /Users/aymanadil/nltk_data...\n",
      "[nltk_data]   Package stopwords is already up-to-date!\n",
      "[nltk_data] Downloading package punkt to /Users/aymanadil/nltk_data...\n",
      "[nltk_data]   Package punkt is already up-to-date!\n",
      "[nltk_data] Downloading package wordnet to\n",
      "[nltk_data]     /Users/aymanadil/nltk_data...\n",
      "[nltk_data]   Package wordnet is already up-to-date!\n"
     ]
    }
   ],
   "source": [
    "from nltk.tokenize import word_tokenize\n",
    "from nltk.tokenize import sent_tokenize\n",
    "from nltk.stem import WordNetLemmatizer\n",
    "from nltk.corpus import stopwords\n",
    "import nltk\n",
    "import re\n",
    "\n",
    "nltk.download('stopwords')\n",
    "nltk.download('punkt')\n",
    "nltk.download('wordnet')\n",
    "\n",
    "def remove_Stopwords(text):\n",
    "    stop_words = set(stopwords.words(\"english\"))\n",
    "    words = word_tokenize(text)\n",
    "    words = [word for word in words if word.lower() not in stop_words]\n",
    "    return \" \".join(words)\n",
    "\n",
    "#change word back to its original form\n",
    "def lemmatize_text(text):\n",
    "    wordlist = []\n",
    "    lemmatizer = WordNetLemmatizer()\n",
    "    sentences = sent_tokenize(text)\n",
    "    for sentence in sentences:\n",
    "        words = word_tokenize(sentence)\n",
    "        words = [lemmatizer.lemmatize(word) for word in words]\n",
    "        wordlist.append(\" \".join(words))\n",
    "    return \" \".join(wordlist)\n",
    "\n",
    "#remove special characters and punctuations from the text\n",
    "def clean_text(text):\n",
    "    delete_dic = {sp_character: \"\" for sp_character in string.punctuation}\n",
    "    delete_dic[\" \"] = \" \"\n",
    "    table = str.maketrans(delete_dic)\n",
    "    text1 = text.translate(table)\n",
    "    textArr = text1.split()\n",
    "    text2 = \" \".join([word for word in textArr])\n",
    "    return text2.lower()"
   ]
  }
 ],
 "metadata": {
  "kernelspec": {
   "display_name": "textAnalysis",
   "language": "python",
   "name": "python3"
  },
  "language_info": {
   "codemirror_mode": {
    "name": "ipython",
    "version": 3
   },
   "file_extension": ".py",
   "mimetype": "text/x-python",
   "name": "python",
   "nbconvert_exporter": "python",
   "pygments_lexer": "ipython3",
   "version": "3.12.2"
  }
 },
 "nbformat": 4,
 "nbformat_minor": 2
}
