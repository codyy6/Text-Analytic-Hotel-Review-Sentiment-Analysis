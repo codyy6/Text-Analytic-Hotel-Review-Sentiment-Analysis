{
 "cells": [
  {
   "cell_type": "markdown",
   "metadata": {},
   "source": [
    "### Bigrams and trigrams "
   ]
  },
  {
   "cell_type": "markdown",
   "metadata": {},
   "source": [
    "#### Data cleaning"
   ]
  },
  {
   "cell_type": "code",
   "execution_count": 1,
   "metadata": {},
   "outputs": [],
   "source": [
    "# import nltk\n",
    "# from nltk.tokenize import word_tokenize\n",
    "\n",
    "# nltk.download('punkt')\n",
    "\n",
    "# # Sample corpus\n",
    "# corpus = [\n",
    "#     \"<s> He read a book </s>\",\n",
    "#     \"<s> I read a different book </s>\",\n",
    "#     \"<s> He read a book by Danielle </s>\"\n",
    "# ]\n",
    "\n",
    "# # Tokenizing and removing sentence pads\n",
    "# tokenized_sentences = [word_tokenize(sentence.replace(\"<s>\", \"\").replace(\"</s>\", \"\").strip()) for sentence in corpus]\n",
    "# print(tokenized_sentences)\n"
   ]
  },
  {
   "cell_type": "code",
   "execution_count": 4,
   "metadata": {},
   "outputs": [
    {
     "name": "stdout",
     "output_type": "stream",
     "text": [
      "Unsmoothed Bigram Model Probability: 0.0740740741\n",
      "Smoothed Bigram Model Probability: 0.0000057846\n"
     ]
    },
    {
     "name": "stderr",
     "output_type": "stream",
     "text": [
      "[nltk_data] Downloading package punkt to /Users/aymanadil/nltk_data...\n",
      "[nltk_data]   Package punkt is already up-to-date!\n"
     ]
    }
   ],
   "source": [
    "import nltk\n",
    "from nltk.tokenize import regexp_tokenize\n",
    "from nltk import bigrams, ConditionalFreqDist\n",
    "\n",
    "# ensure necessary NLTK resources are downloaded\n",
    "nltk.download('punkt')\n",
    "\n",
    "# training corpus\n",
    "corpus = [\n",
    "    \"<s> He read a book </s>\",\n",
    "    \"<s> I read a different book </s>\",\n",
    "    \"<s> He read a book by Danielle </s>\"\n",
    "\n",
    "\n",
    "# define a tokenization pattern to include <s>, </s>, and words\n",
    "pattern = r'(<s>|</s>|\\w+)'\n",
    "\n",
    "# tokenize the sentences using the defined pattern\n",
    "tokenized_sentences = [regexp_tokenize(sentence, pattern) for sentence in corpus]\n",
    "\n",
    "# Preparing data for bigram model\n",
    "all_bigrams = [bigram for sentence in tokenized_sentences for bigram in bigrams(sentence)]\n",
    "bigram_freq_dist = ConditionalFreqDist(all_bigrams)\n",
    "vocabulary = set([word for sentence in tokenized_sentences for word in sentence])\n",
    "\n",
    "# sentence to calculate probability for, this will be tokenized in the same manner\n",
    "test_sentence = \"<s> I read a book by Danielle </s>\"\n",
    "tokenized_test_sentence = regexp_tokenize(test_sentence, pattern)\n",
    "\n",
    "test_bigrams = list(bigrams(tokenized_test_sentence))\n",
    "\n",
    "# function to calculate probabilities\n",
    "def calculate_probability(bigram_freq_dist, test_bigrams, vocabulary, smoothed=False):\n",
    "    probability = 1\n",
    "    vocab_size = len(vocabulary)  # getting vocab size for smoothing\n",
    "\n",
    "    for bigram in test_bigrams:\n",
    "        word1, word2 = bigram\n",
    "        word1_count = sum(bigram_freq_dist[word1].values())\n",
    "        bigram_count = bigram_freq_dist[word1][word2]\n",
    "        if smoothed:\n",
    "            # add-one smoothing\n",
    "            probability *= (bigram_count + 1) / (word1_count + vocab_size + 1)\n",
    "        else:\n",
    "            # unsmoothed model, handling case where word1_count is 0\n",
    "            probability *= bigram_count / word1_count if word1_count else 0\n",
    "    return probability\n",
    "\n",
    "# calculating probabilities\n",
    "unsmoothed_probability = calculate_probability(bigram_freq_dist, test_bigrams, vocabulary)\n",
    "smoothed_probability = calculate_probability(bigram_freq_dist, test_bigrams, vocabulary, smoothed=True)\n",
    "\n",
    "print(\"Unsmoothed Bigram Model Probability: {:.10f}\".format(unsmoothed_probability))\n",
    "print(\"Smoothed Bigram Model Probability: {:.10f}\".format(smoothed_probability))\n"
   ]
  }
 ],
 "metadata": {
  "kernelspec": {
   "display_name": "textAnalysis",
   "language": "python",
   "name": "python3"
  },
  "language_info": {
   "codemirror_mode": {
    "name": "ipython",
    "version": 3
   },
   "file_extension": ".py",
   "mimetype": "text/x-python",
   "name": "python",
   "nbconvert_exporter": "python",
   "pygments_lexer": "ipython3",
   "version": "3.10.13"
  }
 },
 "nbformat": 4,
 "nbformat_minor": 2
}
