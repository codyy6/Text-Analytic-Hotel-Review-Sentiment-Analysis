{
 "cells": [
  {
   "cell_type": "code",
   "execution_count": 1,
   "id": "c84887ee",
   "metadata": {},
   "outputs": [
    {
     "name": "stdout",
     "output_type": "stream",
     "text": [
      "[('The', 'DT'), ('big', 'JJ'), ('black', 'JJ'), ('dog', 'NN'), ('barked', 'VBD'), ('at', 'IN'), ('the', 'DT'), ('white', 'JJ'), ('cat', 'NN'), ('and', 'CC'), ('chased', 'VBD'), ('away', 'RB')]\n"
     ]
    }
   ],
   "source": [
    "import nltk\n",
    "\n",
    "from textblob import TextBlob #using TextBlob class from textblob library\n",
    "\n",
    "#Get text from text file provided\n",
    "f = open('Data_2.txt', encoding=\"utf8\")\n",
    "file = f.read()\n",
    "\n",
    "#Create TextBlob object from text\n",
    "text = TextBlob(file)\n",
    "\n",
    "#Print the TextBlob POS-tagged text\n",
    "print(text.tags)"
   ]
  }
 ],
 "metadata": {
  "kernelspec": {
   "display_name": "Python 3 (ipykernel)",
   "language": "python",
   "name": "python3"
  },
  "language_info": {
   "codemirror_mode": {
    "name": "ipython",
    "version": 3
   },
   "file_extension": ".py",
   "mimetype": "text/x-python",
   "name": "python",
   "nbconvert_exporter": "python",
   "pygments_lexer": "ipython3",
   "version": "3.10.9"
  }
 },
 "nbformat": 4,
 "nbformat_minor": 5
}
