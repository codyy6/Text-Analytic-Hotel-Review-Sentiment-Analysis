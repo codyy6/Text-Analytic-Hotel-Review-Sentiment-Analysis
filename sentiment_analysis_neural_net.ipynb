{
 "cells": [
  {
   "cell_type": "markdown",
   "metadata": {},
   "source": [
    "# Data Cleaning\n"
   ]
  },
  {
   "cell_type": "code",
   "execution_count": 1,
   "metadata": {},
   "outputs": [],
   "source": [
    "import numpy as np\n",
    "import pandas as pd\n",
    "import matplotlib.pyplot as plt\n",
    "import seaborn as sns\n",
    "import string\n",
    "\n",
    "df = pd.read_csv('7282_1.csv')\n",
    "## Rename columns \n",
    "df.rename(columns = {'reviews.rating':'ratings', 'reviews.text':'reviews','reviews.username':'username'}, inplace = True)\n",
    "\n",
    "## drop null values\n",
    "df.dropna(subset=['ratings'], inplace=True)\n",
    "df.dropna(subset=['reviews'], inplace=True)\n",
    "\n",
    "## drop duplicates\n",
    "df.drop_duplicates(subset=['username'])\n",
    "df.dropna(subset=['ratings'], inplace=True)\n",
    "\n",
    "## drop row 98 that has an invalid review \"xxxxxxxxxxxxxxx\"\n",
    "df.drop(98, inplace=True)\n",
    "\n",
    "df.reset_index(drop=True, inplace = True)\n",
    "\n",
    "## standardize the ratings\n",
    "filtered_values = df.loc[df['ratings'] > 5, 'ratings']\n",
    "# Divide the filtered values by 2\n",
    "filtered_values_divided = filtered_values / 2\n",
    "# Update the original DataFrame with the new values\n",
    "df.loc[df['ratings'] > 5, 'ratings'] = filtered_values_divided\n",
    "\n",
    "\n",
    "## categorizing ratings\n",
    "df.loc[(df['ratings'] >= 4.5), 'ratings'] = 5.0\n",
    "\n",
    "df.loc[(df['ratings'] >= 3.5) & (df['ratings'] < 4.5), 'ratings'] = 4.0\n",
    "\n",
    "df.loc[(df['ratings'] >= 2.5) & (df['ratings'] < 3.5), 'ratings'] = 3.0\n",
    "\n",
    "df.loc[(df['ratings'] >= 1.5) & (df['ratings'] < 2.5), 'ratings'] = 2.0\n",
    "\n",
    "df.loc[(df['ratings'] >= 0.5) & (df['ratings'] < 1.5), 'ratings'] = 1.0\n",
    "\n",
    "df.loc[(df['ratings'] < 0.5), 'ratings'] = 0.0\n",
    "\n",
    "## sentiment mask based on ratings \n",
    "df['sentiment'] = df['ratings'].map({0:'negative', 1:'negative', 2:'negative', 3:'neutral', 4:'positive', 5:'positive'})\n",
    "df = df[['reviews', 'sentiment']]\n",
    "\n",
    "## drop all rows where sentiment is neutral\n",
    "df.drop(df[df['sentiment'] =='neutral'].index, inplace=True)\n",
    "\n",
    "#converting labels to 0 and 1\n",
    "df['sentiment'] = df['sentiment'].map({'negative':0, 'positive':1})\n",
    "\n"
   ]
  },
  {
   "cell_type": "markdown",
   "metadata": {},
   "source": [
    "# Preprocessing data"
   ]
  },
  {
   "cell_type": "code",
   "execution_count": 2,
   "metadata": {},
   "outputs": [
    {
     "name": "stderr",
     "output_type": "stream",
     "text": [
      "[nltk_data] Downloading package stopwords to\n",
      "[nltk_data]     /Users/aymanadil/nltk_data...\n",
      "[nltk_data]   Package stopwords is already up-to-date!\n",
      "[nltk_data] Downloading package punkt to /Users/aymanadil/nltk_data...\n",
      "[nltk_data]   Package punkt is already up-to-date!\n",
      "[nltk_data] Downloading package wordnet to\n",
      "[nltk_data]     /Users/aymanadil/nltk_data...\n",
      "[nltk_data]   Package wordnet is already up-to-date!\n"
     ]
    }
   ],
   "source": [
    "from nltk.tokenize import word_tokenize\n",
    "from nltk.tokenize import sent_tokenize\n",
    "from nltk.stem import WordNetLemmatizer\n",
    "from nltk.corpus import stopwords\n",
    "import nltk\n",
    "import re\n",
    "\n",
    "nltk.download('stopwords')\n",
    "nltk.download('punkt')\n",
    "nltk.download('wordnet')\n",
    "\n",
    "def remove_Stopwords(text):\n",
    "    stop_words = set(stopwords.words(\"english\"))\n",
    "    words = word_tokenize(text)\n",
    "    words = [word for word in words if word.lower() not in stop_words]\n",
    "    return \" \".join(words)\n",
    "\n",
    "#change word back to its original form\n",
    "def lemmatize_text(text):\n",
    "    wordlist = []\n",
    "    lemmatizer = WordNetLemmatizer()\n",
    "    sentences = sent_tokenize(text)\n",
    "    for sentence in sentences:\n",
    "        words = word_tokenize(sentence)\n",
    "        words = [lemmatizer.lemmatize(word) for word in words]\n",
    "        wordlist.append(\" \".join(words))\n",
    "    return \" \".join(wordlist)\n",
    "\n",
    "#remove special characters and punctuations from the text\n",
    "def clean_text(text):\n",
    "    delete_dic = {sp_character: \"\" for sp_character in string.punctuation}\n",
    "    delete_dic[\" \"] = \" \"\n",
    "    table = str.maketrans(delete_dic)\n",
    "    text1 = text.translate(table)\n",
    "    textArr = text1.split()\n",
    "    text2 = \" \".join([word for word in textArr])\n",
    "    return text2.lower()"
   ]
  },
  {
   "cell_type": "markdown",
   "metadata": {},
   "source": [
    "# Cleaned data "
   ]
  },
  {
   "cell_type": "code",
   "execution_count": 3,
   "metadata": {},
   "outputs": [],
   "source": [
    "df['reviews'] = df['reviews'].apply(clean_text)\n",
    "df['reviews'] = df['reviews'].apply(remove_Stopwords)\n",
    "df['reviews'] = df['reviews'].apply(lemmatize_text)\n",
    "\n",
    "# negative_df = df[df['sentiment'] == 'negative']\n",
    "# negative_df.head(10)"
   ]
  },
  {
   "cell_type": "code",
   "execution_count": 4,
   "metadata": {},
   "outputs": [
    {
     "data": {
      "text/plain": [
       "(29243, 2)"
      ]
     },
     "execution_count": 4,
     "metadata": {},
     "output_type": "execute_result"
    }
   ],
   "source": [
    "# df.drop(df[df['sentiment'] == 'neutral'].index, inplace=True)\n",
    "\n",
    "df.shape"
   ]
  },
  {
   "cell_type": "markdown",
   "metadata": {},
   "source": [
    "# Splitting data"
   ]
  },
  {
   "cell_type": "code",
   "execution_count": 5,
   "metadata": {},
   "outputs": [],
   "source": [
    "from sklearn.model_selection import train_test_split\n",
    "X = df['reviews']\n",
    "y = df['sentiment']"
   ]
  },
  {
   "cell_type": "code",
   "execution_count": 6,
   "metadata": {},
   "outputs": [
    {
     "name": "stdout",
     "output_type": "stream",
     "text": [
      "(23394,) (23394,)\n",
      "(5849,) (5849,)\n"
     ]
    }
   ],
   "source": [
    "X_train, X_test, y_train, y_test = train_test_split(X, y, test_size=0.2, random_state=42)\n",
    "print(X_train.shape, y_train.shape)\n",
    "print(X_test.shape, y_test.shape)"
   ]
  },
  {
   "cell_type": "markdown",
   "metadata": {},
   "source": [
    "# Preparing embedding layer"
   ]
  },
  {
   "cell_type": "code",
   "execution_count": 7,
   "metadata": {},
   "outputs": [
    {
     "name": "stdout",
     "output_type": "stream",
     "text": [
      "289\n"
     ]
    }
   ],
   "source": [
    "from keras.preprocessing.text import one_hot, Tokenizer\n",
    "from keras.preprocessing.sequence import pad_sequences\n",
    "from keras.models import Sequential\n",
    "from keras.layers import Activation, Dropout, Dense, Flatten, GlobalMaxPooling1D, Embedding, Conv1D, LSTM\n",
    "\n",
    "word_tokenize = Tokenizer()\n",
    "word_tokenize.fit_on_texts(X_train)\n",
    "\n",
    "X_train = word_tokenize.texts_to_sequences(X_train)\n",
    "X_test = word_tokenize.texts_to_sequences(X_test)\n",
    "\n",
    "vocab_size = len(word_tokenize.word_index) + 1\n",
    "maxlen = max([len(x) for x in X_train])\n",
    "print(maxlen)\n",
    "\n",
    "X_train = pad_sequences(X_train, padding='post', maxlen=maxlen)\n",
    "X_test = pad_sequences(X_test, padding='post', maxlen=maxlen)\n"
   ]
  },
  {
   "cell_type": "markdown",
   "metadata": {},
   "source": [
    "### Creating feature matrix using GloVe word embeddings"
   ]
  },
  {
   "cell_type": "code",
   "execution_count": 8,
   "metadata": {},
   "outputs": [],
   "source": [
    "from numpy import asarray\n",
    "from numpy import zeros"
   ]
  },
  {
   "cell_type": "code",
   "execution_count": 9,
   "metadata": {},
   "outputs": [],
   "source": [
    "embeddings_dict = dict()\n",
    "glove_file = open('a2_glove.6B.100d.txt', encoding=\"utf8\")\n",
    "\n",
    "for line in glove_file:\n",
    "  records = line.split()\n",
    "  word = records[0]\n",
    "  vector_dimensions = asarray(records[1:], dtype='float32')\n",
    "  embeddings_dict[word] = vector_dimensions\n",
    "\n",
    "glove_file.close()"
   ]
  },
  {
   "cell_type": "markdown",
   "metadata": {},
   "source": [
    "# Creating embedding matrix \n",
    "this will contain 100 dimentional GloVe word embeddings for all words \n",
    "in our corpus"
   ]
  },
  {
   "cell_type": "code",
   "execution_count": 14,
   "metadata": {},
   "outputs": [
    {
     "data": {
      "text/plain": [
       "(28258, 100)"
      ]
     },
     "execution_count": 14,
     "metadata": {},
     "output_type": "execute_result"
    }
   ],
   "source": [
    "embedding_matrix = zeros((vocab_size, 100))\n",
    "for word, index in word_tokenize.word_index.items():\n",
    "  embedding_vector = embeddings_dict.get(word)\n",
    "  if embedding_vector is not None:\n",
    "    embedding_matrix[index] = embedding_vector\n",
    "\n",
    "embedding_matrix.shape"
   ]
  }
 ],
 "metadata": {
  "kernelspec": {
   "display_name": "textAnalysis",
   "language": "python",
   "name": "python3"
  },
  "language_info": {
   "codemirror_mode": {
    "name": "ipython",
    "version": 3
   },
   "file_extension": ".py",
   "mimetype": "text/x-python",
   "name": "python",
   "nbconvert_exporter": "python",
   "pygments_lexer": "ipython3",
   "version": "3.10.13"
  }
 },
 "nbformat": 4,
 "nbformat_minor": 2
}
