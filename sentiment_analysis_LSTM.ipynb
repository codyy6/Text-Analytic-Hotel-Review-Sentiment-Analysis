{
 "cells": [
  {
   "cell_type": "code",
   "execution_count": 1,
   "metadata": {},
   "outputs": [
    {
     "name": "stdout",
     "output_type": "stream",
     "text": [
      "                                              reviews  sentiment\n",
      "0   use something like plug cleaner rug powering c...          0\n",
      "1   disappointed pay every extra parking internet ...          1\n",
      "2              better best western street staff great          2\n",
      "3                room dirty didnt even want take shoe          0\n",
      "4                                        satisfactory          1\n",
      "5          xxxxxxxxxxxxxxxxxxxxxxxxxxxxxxxxxxxxxxxxxx          0\n",
      "6   great location bed could better overall good stay          1\n",
      "7                                 nice view 4th floor          1\n",
      "8   black mold around bathtub little spot mold cei...          0\n",
      "9   room 204 wallpaper coming wall around window m...          0\n",
      "10  staff great nice location odd older holiday in...          1\n",
      "11  needed place crash night attending event area ...          1\n",
      "12  three room night fine except third one smoked ...          1\n",
      "13  quaint motel clean could used electric outlet ...          2\n",
      "14  scary old motel rusty door staff friendly peop...          0\n",
      "15                                        bring vodka          0\n",
      "16  picked location based others said perfectly hi...          1\n",
      "17  unfortunately king bed hard uncomfortable good...          1\n",
      "18                                               good          2\n",
      "19  ac smelt moldy wasnt cold wall damaged needed ...          1\n",
      "(17328, 2)\n",
      "sentiment\n",
      "0    5776\n",
      "1    5776\n",
      "2    5776\n",
      "Name: count, dtype: int64\n"
     ]
    }
   ],
   "source": [
    "import numpy as np\n",
    "import pandas as pd\n",
    "import matplotlib.pyplot as plt\n",
    "import seaborn as sns\n",
    "import string\n",
    "\n",
    "# df = pd.read_csv('processed_data.csv')\n",
    "\n",
    "# is_not_empty = df['reviews'].str.strip().astype(bool)\n",
    "# # get number of non empty reviews\n",
    "\n",
    "# df['reviews'] = df['reviews'].str.strip()\n",
    "\n",
    "# df = df[(df['reviews'] != \"\") & (df['reviews'].notna())]\n",
    "# df = df[df['ratings'] > 0]\n",
    "# df = df[['reviews', 'sentiment']]\n",
    "\n",
    "# df['sentiment'] = df['sentiment'].map({'negative':0, 'neutral':1, 'positive': 2 })\n",
    "# # df = df[df['sentiment'].isin([0,2])]\n",
    "\n",
    "# df.reset_index(drop=True, inplace=True)\n",
    "\n",
    "# df.head(20)\n",
    "# print(df.shape)\n",
    "# df.count()\n",
    "# sentiment_counts = df['sentiment'].value_counts()\n",
    "# print(sentiment_counts)\n",
    "\n",
    "# Load your dataset\n",
    "df = pd.read_csv('processed_data.csv')\n",
    "df['reviews'] = df['reviews'].str.strip()\n",
    "df = df[(df['reviews'] != \"\") & (df['reviews'].notna())]\n",
    "df['sentiment'] = df['sentiment'].map({'negative': 0, 'neutral': 1, 'positive': 2})\n",
    "\n",
    "df = df[['reviews', 'sentiment']]\n",
    "# Calculate the minimum number of rows across sentiment categories\n",
    "min_count = df['sentiment'].value_counts().min()\n",
    "\n",
    "# Sample from each category\n",
    "df_balanced = pd.concat([\n",
    "    df[df['sentiment'] == 0].sample(min_count, random_state=42),\n",
    "    df[df['sentiment'] == 1].sample(min_count, random_state=42),\n",
    "    df[df['sentiment'] == 2].sample(min_count, random_state=42)\n",
    "])\n",
    "\n",
    "# Optionally, shuffle the rows if you want the categories to be mixed\n",
    "df_balanced = df_balanced.sample(frac=1, random_state=42).reset_index(drop=True)\n",
    "\n",
    "# Check the new balanced dataframe\n",
    "print(df_balanced.head(20))\n",
    "print(df_balanced.shape)\n",
    "sentiment_counts_balanced = df_balanced['sentiment'].value_counts()\n",
    "print(sentiment_counts_balanced)\n"
   ]
  },
  {
   "cell_type": "markdown",
   "metadata": {},
   "source": [
    "## Importing Libraries"
   ]
  },
  {
   "cell_type": "code",
   "execution_count": 2,
   "metadata": {},
   "outputs": [],
   "source": [
    "from keras.preprocessing.text import Tokenizer\n",
    "from keras.preprocessing.sequence import pad_sequences\n",
    "from keras.models import Sequential\n",
    "from keras.layers import Dense, Flatten, GlobalMaxPooling1D, Embedding \n",
    "from sklearn.model_selection import train_test_split\n",
    "from sklearn.preprocessing import LabelEncoder\n",
    "from numpy import asarray\n",
    "from numpy import zeros\n",
    "from keras.layers import LSTM"
   ]
  },
  {
   "cell_type": "markdown",
   "metadata": {},
   "source": [
    "# Splitting data"
   ]
  },
  {
   "cell_type": "code",
   "execution_count": 3,
   "metadata": {},
   "outputs": [],
   "source": [
    "X = df['reviews']\n",
    "y = df['sentiment']"
   ]
  },
  {
   "cell_type": "code",
   "execution_count": 4,
   "metadata": {},
   "outputs": [
    {
     "name": "stdout",
     "output_type": "stream",
     "text": [
      "(27979,) (27979, 3)\n",
      "(6995,) (6995, 3)\n"
     ]
    }
   ],
   "source": [
    "from keras.utils import to_categorical\n",
    "\n",
    "X_train, X_test, y_train, y_test = train_test_split(X, y, test_size=0.2, random_state=42)\n",
    "\n",
    "label_encoder = LabelEncoder()\n",
    "\n",
    "y_train = to_categorical(y_train)\n",
    "y_test= to_categorical(y_test)\n",
    "print(X_train.shape, y_train.shape)\n",
    "print(X_test.shape, y_test.shape)"
   ]
  },
  {
   "cell_type": "markdown",
   "metadata": {},
   "source": [
    "# Preparing embedding layer"
   ]
  },
  {
   "cell_type": "code",
   "execution_count": 5,
   "metadata": {},
   "outputs": [
    {
     "name": "stdout",
     "output_type": "stream",
     "text": [
      "323\n"
     ]
    }
   ],
   "source": [
    "max_features = 10000\n",
    "word_tokenize = Tokenizer(num_words=max_features, split=' ')\n",
    "word_tokenize.fit_on_texts(X_train) # creates a dictionary mapping each unique word found in training data - this process is often called \"building a vocabulary\"\n",
    "# ^ the frequency of each word is also calculated in this phase, this can be useful for tasks like filtering out infrequent words\n",
    "\n",
    "X_train = word_tokenize.texts_to_sequences(X_train) # takes text and turns them into a list of numbers - each number represents a specific word in the library\n",
    "X_test = word_tokenize.texts_to_sequences(X_test)\n",
    "\n",
    "vocab_size = len(word_tokenize.word_index) + 1\n",
    "maxlen = max([len(x) for x in X_train])\n",
    "print(maxlen)\n",
    "\n",
    "X_train = pad_sequences(X_train, padding='post', maxlen=maxlen) # adds zeros to make sure that all of sequences have the same length\n",
    "X_test = pad_sequences(X_test, padding='post', maxlen=maxlen)\n",
    "\n",
    "\n"
   ]
  },
  {
   "cell_type": "markdown",
   "metadata": {},
   "source": [
    "### Creating feature matrix using GloVe word embeddings"
   ]
  },
  {
   "cell_type": "code",
   "execution_count": 6,
   "metadata": {},
   "outputs": [],
   "source": [
    "embeddings_dict = dict()\n",
    "glove_file = open('a2_glove.6B.100d.txt', encoding=\"utf8\")\n",
    "\n",
    "for line in glove_file: # iterating over every line in the glove_file\n",
    "  # process each line to extract the word and its vector representation\n",
    "  records = line.split()\n",
    "  word = records[0]\n",
    "  # the embedding word vector is obtained by converting the rest of the list\n",
    "  # int a NumPy array with float32. This is needed because the the embedding dimension\n",
    "  # is sorted as a string in the file and we need it to be a floating point number\n",
    "  # for any mathematical operation we might perform\n",
    "  vector_dimensions = asarray(records[1:], dtype='float32')\n",
    "  embeddings_dict[word] = vector_dimensions\n",
    "\n",
    "\n",
    "glove_file.close()"
   ]
  },
  {
   "cell_type": "markdown",
   "metadata": {},
   "source": [
    "# Creating embedding matrix \n",
    "this will contain 100 dimensional GloVe word embeddings for all words \n",
    "in our corpus.\n",
    "The embedding layer of a neural network is the part of the network that takes input data by \n",
    "transforming it into dense vectors of fixed size, often at the very beginning of the model's architecture"
   ]
  },
  {
   "cell_type": "code",
   "execution_count": 7,
   "metadata": {},
   "outputs": [
    {
     "data": {
      "text/plain": [
       "(24590, 100)"
      ]
     },
     "execution_count": 7,
     "metadata": {},
     "output_type": "execute_result"
    }
   ],
   "source": [
    "\n",
    "# here we initialize the embedding matrix with zeros\n",
    "# this creates a matrix filled with zeros where the number of rows (vocab_size)\n",
    "# represents the size of our dataset's vocabulary. and the number of columns \n",
    "# represents the dimensionality of teh GloVe vectors we're using\n",
    "embedding_matrix = zeros((vocab_size, 100))\n",
    "# here we fill teh embedding matrix with embedding vectors from 'embeddings_dict'\n",
    "for word, index in word_tokenize.word_index.items():\n",
    "  embedding_vector = embeddings_dict.get(word)\n",
    "  if embedding_vector is not None:\n",
    "    embedding_matrix[index] = embedding_vector\n",
    "\n",
    "embedding_matrix.shape"
   ]
  },
  {
   "cell_type": "markdown",
   "metadata": {},
   "source": [
    "# Recurrent Neural Net (LSTM)"
   ]
  },
  {
   "cell_type": "code",
   "execution_count": 8,
   "metadata": {},
   "outputs": [],
   "source": [
    "from keras.layers import Dropout\n",
    "\n",
    "lstm_model = Sequential()\n",
    "embedding_layer = Embedding(vocab_size, 100, weights=[embedding_matrix], input_length=maxlen, trainable=False)\n",
    "\n",
    "lstm_model.add(embedding_layer)\n",
    "lstm_model.add(LSTM(128, return_sequences=True))\n",
    "lstm_model.add(LSTM(64))\n",
    "lstm_model.add(Dropout(0.2))\n",
    "\n",
    "lstm_model.add(Dense(3, activation='softmax'))"
   ]
  },
  {
   "cell_type": "code",
   "execution_count": 9,
   "metadata": {},
   "outputs": [
    {
     "name": "stdout",
     "output_type": "stream",
     "text": [
      "Model: \"sequential\"\n",
      "_________________________________________________________________\n",
      " Layer (type)                Output Shape              Param #   \n",
      "=================================================================\n",
      " embedding (Embedding)       (None, 323, 100)          2459000   \n",
      "                                                                 \n",
      " lstm (LSTM)                 (None, 323, 128)          117248    \n",
      "                                                                 \n",
      " lstm_1 (LSTM)               (None, 64)                49408     \n",
      "                                                                 \n",
      " dropout (Dropout)           (None, 64)                0         \n",
      "                                                                 \n",
      " dense (Dense)               (None, 3)                 195       \n",
      "                                                                 \n",
      "=================================================================\n",
      "Total params: 2625851 (10.02 MB)\n",
      "Trainable params: 166851 (651.76 KB)\n",
      "Non-trainable params: 2459000 (9.38 MB)\n",
      "_________________________________________________________________\n"
     ]
    }
   ],
   "source": [
    "lstm_model.compile(optimizer='adam', loss = 'categorical_focal_crossentropy', metrics=['acc'])\n",
    "lstm_model.summary()"
   ]
  },
  {
   "cell_type": "markdown",
   "metadata": {},
   "source": [
    "#### Training LSTM model"
   ]
  },
  {
   "cell_type": "code",
   "execution_count": 10,
   "metadata": {},
   "outputs": [
    {
     "name": "stdout",
     "output_type": "stream",
     "text": [
      "Epoch 1/6\n",
      "154/154 [==============================] - 151s 975ms/step - loss: 0.0974 - acc: 0.6497 - val_loss: 0.0959 - val_acc: 0.6542\n",
      "Epoch 2/6\n",
      "154/154 [==============================] - 154s 1s/step - loss: 0.0966 - acc: 0.6523 - val_loss: 0.0959 - val_acc: 0.6542\n",
      "Epoch 3/6\n",
      "154/154 [==============================] - 129s 838ms/step - loss: 0.0965 - acc: 0.6523 - val_loss: 0.0960 - val_acc: 0.6542\n",
      "Epoch 4/6\n",
      "154/154 [==============================] - 114s 743ms/step - loss: 0.0963 - acc: 0.6523 - val_loss: 0.0965 - val_acc: 0.6542\n",
      "Epoch 5/6\n",
      "154/154 [==============================] - 149s 968ms/step - loss: 0.0963 - acc: 0.6523 - val_loss: 0.0960 - val_acc: 0.6542\n",
      "Epoch 6/6\n",
      "154/154 [==============================] - 122s 791ms/step - loss: 0.0963 - acc: 0.6523 - val_loss: 0.0959 - val_acc: 0.6542\n"
     ]
    }
   ],
   "source": [
    "lstm_model_history = lstm_model.fit(X_train, y_train, batch_size=128, epochs=6, verbose=1, validation_split=0.3)"
   ]
  },
  {
   "cell_type": "code",
   "execution_count": 11,
   "metadata": {},
   "outputs": [
    {
     "name": "stdout",
     "output_type": "stream",
     "text": [
      "219/219 [==============================] - 24s 109ms/step\n",
      "              precision    recall  f1-score   support\n",
      "\n",
      "    Negative       0.00      0.00      0.00      1278\n",
      "     Neutral       0.00      0.00      0.00      1165\n",
      "    Positive       0.65      1.00      0.79      4552\n",
      "\n",
      "    accuracy                           0.65      6995\n",
      "   macro avg       0.22      0.33      0.26      6995\n",
      "weighted avg       0.42      0.65      0.51      6995\n",
      "\n"
     ]
    },
    {
     "name": "stderr",
     "output_type": "stream",
     "text": [
      "/Users/aymanadil/anaconda3/envs/sentimentAnalysis/lib/python3.10/site-packages/sklearn/metrics/_classification.py:1509: UndefinedMetricWarning: Precision is ill-defined and being set to 0.0 in labels with no predicted samples. Use `zero_division` parameter to control this behavior.\n",
      "  _warn_prf(average, modifier, f\"{metric.capitalize()} is\", len(result))\n",
      "/Users/aymanadil/anaconda3/envs/sentimentAnalysis/lib/python3.10/site-packages/sklearn/metrics/_classification.py:1509: UndefinedMetricWarning: Precision is ill-defined and being set to 0.0 in labels with no predicted samples. Use `zero_division` parameter to control this behavior.\n",
      "  _warn_prf(average, modifier, f\"{metric.capitalize()} is\", len(result))\n",
      "/Users/aymanadil/anaconda3/envs/sentimentAnalysis/lib/python3.10/site-packages/sklearn/metrics/_classification.py:1509: UndefinedMetricWarning: Precision is ill-defined and being set to 0.0 in labels with no predicted samples. Use `zero_division` parameter to control this behavior.\n",
      "  _warn_prf(average, modifier, f\"{metric.capitalize()} is\", len(result))\n"
     ]
    }
   ],
   "source": [
    "\n",
    "# Predict probabilities\n",
    "probabilities = lstm_model.predict(X_test)\n",
    "\n",
    "# Convert probabilities to class labels\n",
    "y_pred = np.argmax(probabilities, axis=-1)\n",
    "\n",
    "# Convert y_test from one-hot to class labels if it's one-hot encoded\n",
    "y_true = np.argmax(y_test, axis=-1)\n",
    "\n",
    "from sklearn.metrics import classification_report\n",
    "\n",
    "# Generate a classification report\n",
    "report = classification_report(y_true, y_pred, target_names=['Negative','Neutral', 'Positive'])\n",
    "\n",
    "print(report)\n"
   ]
  },
  {
   "cell_type": "code",
   "execution_count": 12,
   "metadata": {},
   "outputs": [
    {
     "name": "stdout",
     "output_type": "stream",
     "text": [
      "219/219 [==============================] - 23s 104ms/step - loss: 0.0964 - acc: 0.6508\n",
      "lstm model score:  0.09635923057794571\n",
      "lstm model accuracy:  0.6507505178451538\n"
     ]
    }
   ],
   "source": [
    "lstm_score = lstm_model.evaluate(X_test, y_test, verbose=1)\n",
    "print('lstm model score: ', lstm_score[0])\n",
    "print('lstm model accuracy: ', lstm_score[1])"
   ]
  },
  {
   "cell_type": "code",
   "execution_count": 13,
   "metadata": {},
   "outputs": [
    {
     "data": {
      "image/png": "[encoded data removed]",
      "text/plain": [
       "<Figure size 640x480 with 1 Axes>"
      ]
     },
     "metadata": {},
     "output_type": "display_data"
    },
    {
     "data": {
      "image/png": "[encoded data removed]",
      "text/plain": [
       "<Figure size 640x480 with 1 Axes>"
      ]
     },
     "metadata": {},
     "output_type": "display_data"
    }
   ],
   "source": [
    "\n",
    "plt.plot(lstm_model_history.history['acc'])\n",
    "plt.plot(lstm_model_history.history['val_acc'])\n",
    "\n",
    "plt.title('LSTM Neural Net Accuracy')\n",
    "plt.ylabel('accuracy')\n",
    "plt.xlabel('epoch')\n",
    "plt.legend(['train', 'test'], loc='upper left')\n",
    "plt.show()\n",
    "\n",
    "plt.plot(lstm_model_history.history['loss'])\n",
    "plt.plot(lstm_model_history.history['val_loss'])\n",
    "\n",
    "plt.title('LSTM Neural Net Loss')\n",
    "plt.ylabel('loss')\n",
    "plt.xlabel('epoch')\n",
    "plt.legend(['train', 'test'], loc='upper left')\n",
    "plt.show()"
   ]
  },
  {
   "cell_type": "code",
   "execution_count": 14,
   "metadata": {},
   "outputs": [
    {
     "name": "stdout",
     "output_type": "stream",
     "text": [
      "219/219 [==============================] - 23s 107ms/step\n"
     ]
    },
    {
     "data": {
      "image/png": "[encoded data removed]",
      "text/plain": [
       "<Figure size 1000x800 with 2 Axes>"
      ]
     },
     "metadata": {},
     "output_type": "display_data"
    },
    {
     "name": "stdout",
     "output_type": "stream",
     "text": [
      "Classification Report\n",
      "              precision    recall  f1-score   support\n",
      "\n",
      "     Class 0       0.00      0.00      0.00      1278\n",
      "     Class 1       0.00      0.00      0.00      1165\n",
      "     Class 2       0.65      1.00      0.79      4552\n",
      "\n",
      "    accuracy                           0.65      6995\n",
      "   macro avg       0.22      0.33      0.26      6995\n",
      "weighted avg       0.42      0.65      0.51      6995\n",
      "\n"
     ]
    },
    {
     "name": "stderr",
     "output_type": "stream",
     "text": [
      "/Users/aymanadil/anaconda3/envs/sentimentAnalysis/lib/python3.10/site-packages/sklearn/metrics/_classification.py:1509: UndefinedMetricWarning: Precision is ill-defined and being set to 0.0 in labels with no predicted samples. Use `zero_division` parameter to control this behavior.\n",
      "  _warn_prf(average, modifier, f\"{metric.capitalize()} is\", len(result))\n",
      "/Users/aymanadil/anaconda3/envs/sentimentAnalysis/lib/python3.10/site-packages/sklearn/metrics/_classification.py:1509: UndefinedMetricWarning: Precision is ill-defined and being set to 0.0 in labels with no predicted samples. Use `zero_division` parameter to control this behavior.\n",
      "  _warn_prf(average, modifier, f\"{metric.capitalize()} is\", len(result))\n",
      "/Users/aymanadil/anaconda3/envs/sentimentAnalysis/lib/python3.10/site-packages/sklearn/metrics/_classification.py:1509: UndefinedMetricWarning: Precision is ill-defined and being set to 0.0 in labels with no predicted samples. Use `zero_division` parameter to control this behavior.\n",
      "  _warn_prf(average, modifier, f\"{metric.capitalize()} is\", len(result))\n"
     ]
    }
   ],
   "source": [
    "from sklearn.metrics import confusion_matrix \n",
    "def generate_report(model, X_test, y_test, num_classes):\n",
    "    # Predict the values from the test dataset\n",
    "    y_pred = model.predict(X_test)\n",
    "    # Convert predictions classes to one hot vectors \n",
    "    y_pred_classes = np.argmax(y_pred, axis=1) \n",
    "    # Convert test observations to one hot vectors\n",
    "    y_true = np.argmax(y_test, axis=1) \n",
    "    # compute the confusion matrix\n",
    "    confusion_mtx = confusion_matrix(y_true, y_pred_classes) \n",
    "    # plot the confusion matrix\n",
    "    plt.figure(figsize=(10,8))\n",
    "    sns.heatmap(confusion_mtx, annot=True, fmt='d', cmap=\"Blues\")\n",
    "    plt.ylabel('Actual')\n",
    "    plt.xlabel('Predicted')\n",
    "    plt.title('Confusion Matrix')\n",
    "    plt.show()\n",
    "    \n",
    "    # Print the classification report\n",
    "    print('Classification Report')\n",
    "    target_names = ['Class {}'.format(i) for i in range(num_classes)]\n",
    "    print(classification_report(y_true, y_pred_classes, target_names=target_names))\n",
    "\n",
    "generate_report(lstm_model, X_test, y_test, 3)"
   ]
  }
 ],
 "metadata": {
  "kernelspec": {
   "display_name": "textAnalysis",
   "language": "python",
   "name": "python3"
  },
  "language_info": {
   "codemirror_mode": {
    "name": "ipython",
    "version": 3
   },
   "file_extension": ".py",
   "mimetype": "text/x-python",
   "name": "python",
   "nbconvert_exporter": "python",
   "pygments_lexer": "ipython3",
   "version": "3.10.13"
  }
 },
 "nbformat": 4,
 "nbformat_minor": 2
}
