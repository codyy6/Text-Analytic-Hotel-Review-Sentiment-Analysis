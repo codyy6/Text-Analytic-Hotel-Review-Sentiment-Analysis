{
 "cells": [
  {
   "cell_type": "markdown",
   "metadata": {},
   "source": [
    "# Dataset Understanding"
   ]
  },
  {
   "cell_type": "code",
   "execution_count": 50,
   "metadata": {},
   "outputs": [],
   "source": [
    "import numpy as np\n",
    "import pandas as pd\n",
    "import matplotlib.pyplot as plt\n",
    "import seaborn as sns\n",
    "import string\n",
    "\n",
    "df = pd.read_csv('7282_1.csv')"
   ]
  },
  {
   "cell_type": "code",
   "execution_count": 51,
   "metadata": {},
   "outputs": [
    {
     "name": "stdout",
     "output_type": "stream",
     "text": [
      "                  address categories      city country   latitude  longitude  \\\n",
      "0  Riviera San Nicol 11/a     Hotels  Mableton      US  45.421611  12.376187   \n",
      "1  Riviera San Nicol 11/a     Hotels  Mableton      US  45.421611  12.376187   \n",
      "2  Riviera San Nicol 11/a     Hotels  Mableton      US  45.421611  12.376187   \n",
      "3  Riviera San Nicol 11/a     Hotels  Mableton      US  45.421611  12.376187   \n",
      "4  Riviera San Nicol 11/a     Hotels  Mableton      US  45.421611  12.376187   \n",
      "5  Riviera San Nicol 11/a     Hotels  Mableton      US  45.421611  12.376187   \n",
      "6  Riviera San Nicol 11/a     Hotels  Mableton      US  45.421611  12.376187   \n",
      "7  Riviera San Nicol 11/a     Hotels  Mableton      US  45.421611  12.376187   \n",
      "8  Riviera San Nicol 11/a     Hotels  Mableton      US  45.421611  12.376187   \n",
      "9  Riviera San Nicol 11/a     Hotels  Mableton      US  45.421611  12.376187   \n",
      "\n",
      "                 name postalCode province          reviews.date  \\\n",
      "0  Hotel Russo Palace      30126       GA  2013-09-22T00:00:00Z   \n",
      "1  Hotel Russo Palace      30126       GA  2015-04-03T00:00:00Z   \n",
      "2  Hotel Russo Palace      30126       GA  2014-05-13T00:00:00Z   \n",
      "3  Hotel Russo Palace      30126       GA  2013-10-27T00:00:00Z   \n",
      "4  Hotel Russo Palace      30126       GA  2015-03-05T00:00:00Z   \n",
      "5  Hotel Russo Palace      30126       GA  2015-04-05T00:00:00Z   \n",
      "6  Hotel Russo Palace      30126       GA  2014-06-10T00:00:00Z   \n",
      "7  Hotel Russo Palace      30126       GA  2015-05-14T00:00:00Z   \n",
      "8  Hotel Russo Palace      30126       GA  2015-09-14T00:00:00Z   \n",
      "9  Hotel Russo Palace      30126       GA  2015-05-16T00:00:00Z   \n",
      "\n",
      "      reviews.dateAdded  reviews.doRecommend  reviews.id  reviews.rating  \\\n",
      "0  2016-10-24T00:00:25Z                  NaN         NaN             4.0   \n",
      "1  2016-10-24T00:00:25Z                  NaN         NaN             5.0   \n",
      "2  2016-10-24T00:00:25Z                  NaN         NaN             5.0   \n",
      "3  2016-10-24T00:00:25Z                  NaN         NaN             5.0   \n",
      "4  2016-10-24T00:00:25Z                  NaN         NaN             5.0   \n",
      "5  2016-10-24T00:00:25Z                  NaN         NaN             5.0   \n",
      "6  2016-10-24T00:00:25Z                  NaN         NaN             4.0   \n",
      "7  2016-10-24T00:00:25Z                  NaN         NaN             4.0   \n",
      "8  2016-10-24T00:00:25Z                  NaN         NaN             3.0   \n",
      "9  2016-10-24T00:00:25Z                  NaN         NaN             4.0   \n",
      "\n",
      "                                        reviews.text  \\\n",
      "0  Pleasant 10 min walk along the sea front to th...   \n",
      "1  Really lovely hotel. Stayed on the very top fl...   \n",
      "2  Ett mycket bra hotell. Det som drog ner betyge...   \n",
      "3  We stayed here for four nights in October. The...   \n",
      "4  We stayed here for four nights in October. The...   \n",
      "5  We loved staying on the island of Lido! You ne...   \n",
      "6  Lovely view out onto the lagoon. Excellent vie...   \n",
      "7  ottimo soggiorno e ottima sistemazione nei gio...   \n",
      "8  Gnstiger Ausgangspunkt fr Venedig Besuche. Ruh...   \n",
      "9  Lidoen er perfekt til et par dages ro og afsla...   \n",
      "\n",
      "                                      reviews.title reviews.userCity  \\\n",
      "0                Good location away from the crouds              NaN   \n",
      "1                    Great hotel with Jacuzzi bath!              NaN   \n",
      "2                                       Lugnt l��ge              NaN   \n",
      "3                        Good location on the Lido.              NaN   \n",
      "4                            ������ ���������������              NaN   \n",
      "5                                   Very nice hotel              NaN   \n",
      "6  Lovely view out onto the lagoon. Excellent view.              NaN   \n",
      "7  Lovely view out onto the lagoon. Excellent view.              NaN   \n",
      "8                                    G��nstige Lage              NaN   \n",
      "9                                       Ro og hygge              NaN   \n",
      "\n",
      "  reviews.username reviews.userProvince  \n",
      "0      Russ (kent)                  NaN  \n",
      "1       A Traveler                  NaN  \n",
      "2             Maud                  NaN  \n",
      "3            Julie                  NaN  \n",
      "4         sungchul                  NaN  \n",
      "5       A Traveler                  NaN  \n",
      "6       A Traveler                  NaN  \n",
      "7       A Traveler                  NaN  \n",
      "8     Doppeldecker                  NaN  \n",
      "9       A Traveler                  NaN  \n"
     ]
    }
   ],
   "source": [
    "print(df.head(10))"
   ]
  },
  {
   "cell_type": "code",
   "execution_count": null,
   "metadata": {},
   "outputs": [],
   "source": [
    "print(df.columns)"
   ]
  },
  {
   "cell_type": "code",
   "execution_count": null,
   "metadata": {},
   "outputs": [],
   "source": [
    "print(df.isnull().sum())"
   ]
  },
  {
   "cell_type": "code",
   "execution_count": null,
   "metadata": {},
   "outputs": [],
   "source": [
    "for column in df.columns:\n",
    "    unique_values = df[column].nunique()\n",
    "    print(\"{:<30}{}\".format(column, unique_values))\n"
   ]
  },
  {
   "cell_type": "code",
   "execution_count": null,
   "metadata": {},
   "outputs": [],
   "source": [
    "df.dtypes"
   ]
  },
  {
   "cell_type": "markdown",
   "metadata": {},
   "source": [
    "# Data Cleaning"
   ]
  },
  {
   "cell_type": "code",
   "execution_count": 52,
   "metadata": {},
   "outputs": [
    {
     "data": {
      "text/html": [
       "<div>\n",
       "<style scoped>\n",
       "    .dataframe tbody tr th:only-of-type {\n",
       "        vertical-align: middle;\n",
       "    }\n",
       "\n",
       "    .dataframe tbody tr th {\n",
       "        vertical-align: top;\n",
       "    }\n",
       "\n",
       "    .dataframe thead th {\n",
       "        text-align: right;\n",
       "    }\n",
       "</style>\n",
       "<table border=\"1\" class=\"dataframe\">\n",
       "  <thead>\n",
       "    <tr style=\"text-align: right;\">\n",
       "      <th></th>\n",
       "      <th>name</th>\n",
       "      <th>reviews.rating</th>\n",
       "      <th>reviews.text</th>\n",
       "      <th>reviews.username</th>\n",
       "    </tr>\n",
       "  </thead>\n",
       "  <tbody>\n",
       "    <tr>\n",
       "      <th>0</th>\n",
       "      <td>Hotel Russo Palace</td>\n",
       "      <td>4.0</td>\n",
       "      <td>Pleasant 10 min walk along the sea front to th...</td>\n",
       "      <td>Russ (kent)</td>\n",
       "    </tr>\n",
       "    <tr>\n",
       "      <th>1</th>\n",
       "      <td>Hotel Russo Palace</td>\n",
       "      <td>5.0</td>\n",
       "      <td>Really lovely hotel. Stayed on the very top fl...</td>\n",
       "      <td>A Traveler</td>\n",
       "    </tr>\n",
       "    <tr>\n",
       "      <th>2</th>\n",
       "      <td>Hotel Russo Palace</td>\n",
       "      <td>5.0</td>\n",
       "      <td>Ett mycket bra hotell. Det som drog ner betyge...</td>\n",
       "      <td>Maud</td>\n",
       "    </tr>\n",
       "    <tr>\n",
       "      <th>3</th>\n",
       "      <td>Hotel Russo Palace</td>\n",
       "      <td>5.0</td>\n",
       "      <td>We stayed here for four nights in October. The...</td>\n",
       "      <td>Julie</td>\n",
       "    </tr>\n",
       "    <tr>\n",
       "      <th>4</th>\n",
       "      <td>Hotel Russo Palace</td>\n",
       "      <td>5.0</td>\n",
       "      <td>We stayed here for four nights in October. The...</td>\n",
       "      <td>sungchul</td>\n",
       "    </tr>\n",
       "    <tr>\n",
       "      <th>...</th>\n",
       "      <td>...</td>\n",
       "      <td>...</td>\n",
       "      <td>...</td>\n",
       "      <td>...</td>\n",
       "    </tr>\n",
       "    <tr>\n",
       "      <th>35907</th>\n",
       "      <td>Elk Springs Resort</td>\n",
       "      <td>5.0</td>\n",
       "      <td>Best of the Best!!!! My family and I stayed in...</td>\n",
       "      <td>Chelsa K.</td>\n",
       "    </tr>\n",
       "    <tr>\n",
       "      <th>35908</th>\n",
       "      <td>Elk Springs Resort</td>\n",
       "      <td>5.0</td>\n",
       "      <td>Amazing Vacation in Beautiful Cabin We stayed ...</td>\n",
       "      <td>Heather D.</td>\n",
       "    </tr>\n",
       "    <tr>\n",
       "      <th>35909</th>\n",
       "      <td>Elk Springs Resort</td>\n",
       "      <td>5.0</td>\n",
       "      <td>My husband and I stayed at Tree Tops which is ...</td>\n",
       "      <td>Carol W.</td>\n",
       "    </tr>\n",
       "    <tr>\n",
       "      <th>35910</th>\n",
       "      <td>Extended Stay America Grand Rapids - Kentwood</td>\n",
       "      <td>0.0</td>\n",
       "      <td>to share your opinion of this businesswith YP ...</td>\n",
       "      <td>write a review</td>\n",
       "    </tr>\n",
       "    <tr>\n",
       "      <th>35911</th>\n",
       "      <td>Extended Stay America Grand Rapids - Kentwood</td>\n",
       "      <td>0.0</td>\n",
       "      <td>xxxxxxxxxxxxxxxxxxxxxxxxxxxxxxxxxxxxxxxxxx</td>\n",
       "      <td>xxxxxxxxxxxxxx</td>\n",
       "    </tr>\n",
       "  </tbody>\n",
       "</table>\n",
       "<p>35912 rows × 4 columns</p>\n",
       "</div>"
      ],
      "text/plain": [
       "                                                name  reviews.rating  \\\n",
       "0                                 Hotel Russo Palace             4.0   \n",
       "1                                 Hotel Russo Palace             5.0   \n",
       "2                                 Hotel Russo Palace             5.0   \n",
       "3                                 Hotel Russo Palace             5.0   \n",
       "4                                 Hotel Russo Palace             5.0   \n",
       "...                                              ...             ...   \n",
       "35907                             Elk Springs Resort             5.0   \n",
       "35908                             Elk Springs Resort             5.0   \n",
       "35909                             Elk Springs Resort             5.0   \n",
       "35910  Extended Stay America Grand Rapids - Kentwood             0.0   \n",
       "35911  Extended Stay America Grand Rapids - Kentwood             0.0   \n",
       "\n",
       "                                            reviews.text reviews.username  \n",
       "0      Pleasant 10 min walk along the sea front to th...      Russ (kent)  \n",
       "1      Really lovely hotel. Stayed on the very top fl...       A Traveler  \n",
       "2      Ett mycket bra hotell. Det som drog ner betyge...             Maud  \n",
       "3      We stayed here for four nights in October. The...            Julie  \n",
       "4      We stayed here for four nights in October. The...         sungchul  \n",
       "...                                                  ...              ...  \n",
       "35907  Best of the Best!!!! My family and I stayed in...        Chelsa K.  \n",
       "35908  Amazing Vacation in Beautiful Cabin We stayed ...       Heather D.  \n",
       "35909  My husband and I stayed at Tree Tops which is ...         Carol W.  \n",
       "35910  to share your opinion of this businesswith YP ...   write a review  \n",
       "35911         xxxxxxxxxxxxxxxxxxxxxxxxxxxxxxxxxxxxxxxxxx   xxxxxxxxxxxxxx  \n",
       "\n",
       "[35912 rows x 4 columns]"
      ]
     },
     "execution_count": 52,
     "metadata": {},
     "output_type": "execute_result"
    }
   ],
   "source": [
    "#All of the column below does not contribute to the classificatin of sentiment analysis, thus we can drop them\n",
    "df = df.drop(['address','latitude','longitude', 'postalCode','reviews.date','reviews.dateAdded','reviews.userCity','reviews.userProvince','categories','city','country','province','reviews.doRecommend','reviews.id','reviews.title'], axis='columns')\n",
    "df"
   ]
  },
  {
   "cell_type": "code",
   "execution_count": 53,
   "metadata": {},
   "outputs": [],
   "source": [
    "df.rename(columns = {'reviews.rating':'ratings', 'reviews.text':'reviews','reviews.username':'username'}, inplace = True)"
   ]
  },
  {
   "cell_type": "code",
   "execution_count": 55,
   "metadata": {},
   "outputs": [
    {
     "name": "stdout",
     "output_type": "stream",
     "text": [
      "                                                name  ratings  \\\n",
      "0                                 Hotel Russo Palace      4.0   \n",
      "1                                 Hotel Russo Palace      5.0   \n",
      "2                                 Hotel Russo Palace      5.0   \n",
      "3                                 Hotel Russo Palace      5.0   \n",
      "4                                 Hotel Russo Palace      5.0   \n",
      "...                                              ...      ...   \n",
      "35907                             Elk Springs Resort      5.0   \n",
      "35908                             Elk Springs Resort      5.0   \n",
      "35909                             Elk Springs Resort      5.0   \n",
      "35910  Extended Stay America Grand Rapids - Kentwood      0.0   \n",
      "35911  Extended Stay America Grand Rapids - Kentwood      0.0   \n",
      "\n",
      "                                                 reviews        username  \n",
      "0      Pleasant 10 min walk along the sea front to th...     Russ (kent)  \n",
      "1      Really lovely hotel. Stayed on the very top fl...      A Traveler  \n",
      "2      Ett mycket bra hotell. Det som drog ner betyge...            Maud  \n",
      "3      We stayed here for four nights in October. The...           Julie  \n",
      "4      We stayed here for four nights in October. The...        sungchul  \n",
      "...                                                  ...             ...  \n",
      "35907  Best of the Best!!!! My family and I stayed in...       Chelsa K.  \n",
      "35908  Amazing Vacation in Beautiful Cabin We stayed ...      Heather D.  \n",
      "35909  My husband and I stayed at Tree Tops which is ...        Carol W.  \n",
      "35910  to share your opinion of this businesswith YP ...  write a review  \n",
      "35911         xxxxxxxxxxxxxxxxxxxxxxxxxxxxxxxxxxxxxxxxxx  xxxxxxxxxxxxxx  \n",
      "\n",
      "[35912 rows x 4 columns]\n"
     ]
    }
   ],
   "source": [
    "# Iterate through each row in the \"reviews\" column and strip the text\n",
    "for idx, row in df.iterrows():\n",
    "    # Check if the value is NaN\n",
    "    if isinstance(row['reviews'], str):\n",
    "        stripped_text = row['reviews'].strip()\n",
    "        df.at[idx, 'reviews'] = stripped_text\n",
    "    else:\n",
    "        # Handle NaN values, you can choose to ignore, replace, or do something else\n",
    "        df.at[idx, 'reviews'] = np.nan  # For example, setting NaN again\n",
    "\n",
    "# Display the updated DataFrame\n",
    "print(df)\n"
   ]
  },
  {
   "cell_type": "code",
   "execution_count": 56,
   "metadata": {},
   "outputs": [
    {
     "data": {
      "text/plain": [
       "(35026, 4)"
      ]
     },
     "execution_count": 56,
     "metadata": {},
     "output_type": "execute_result"
    }
   ],
   "source": [
    "df.dropna(subset=['ratings'], inplace=True)\n",
    "df.dropna(subset=['reviews'], inplace=True)\n",
    "\n",
    "df.shape\n"
   ]
  },
  {
   "cell_type": "code",
   "execution_count": 57,
   "metadata": {},
   "outputs": [
    {
     "data": {
      "text/html": [
       "<div>\n",
       "<style scoped>\n",
       "    .dataframe tbody tr th:only-of-type {\n",
       "        vertical-align: middle;\n",
       "    }\n",
       "\n",
       "    .dataframe tbody tr th {\n",
       "        vertical-align: top;\n",
       "    }\n",
       "\n",
       "    .dataframe thead th {\n",
       "        text-align: right;\n",
       "    }\n",
       "</style>\n",
       "<table border=\"1\" class=\"dataframe\">\n",
       "  <thead>\n",
       "    <tr style=\"text-align: right;\">\n",
       "      <th></th>\n",
       "      <th>name</th>\n",
       "      <th>ratings</th>\n",
       "      <th>reviews</th>\n",
       "      <th>username</th>\n",
       "    </tr>\n",
       "  </thead>\n",
       "  <tbody>\n",
       "    <tr>\n",
       "      <th>0</th>\n",
       "      <td>Hotel Russo Palace</td>\n",
       "      <td>4.0</td>\n",
       "      <td>Pleasant 10 min walk along the sea front to th...</td>\n",
       "      <td>Russ (kent)</td>\n",
       "    </tr>\n",
       "    <tr>\n",
       "      <th>1</th>\n",
       "      <td>Hotel Russo Palace</td>\n",
       "      <td>5.0</td>\n",
       "      <td>Really lovely hotel. Stayed on the very top fl...</td>\n",
       "      <td>A Traveler</td>\n",
       "    </tr>\n",
       "    <tr>\n",
       "      <th>2</th>\n",
       "      <td>Hotel Russo Palace</td>\n",
       "      <td>5.0</td>\n",
       "      <td>Ett mycket bra hotell. Det som drog ner betyge...</td>\n",
       "      <td>Maud</td>\n",
       "    </tr>\n",
       "    <tr>\n",
       "      <th>3</th>\n",
       "      <td>Hotel Russo Palace</td>\n",
       "      <td>5.0</td>\n",
       "      <td>We stayed here for four nights in October. The...</td>\n",
       "      <td>Julie</td>\n",
       "    </tr>\n",
       "    <tr>\n",
       "      <th>4</th>\n",
       "      <td>Hotel Russo Palace</td>\n",
       "      <td>5.0</td>\n",
       "      <td>We stayed here for four nights in October. The...</td>\n",
       "      <td>sungchul</td>\n",
       "    </tr>\n",
       "    <tr>\n",
       "      <th>...</th>\n",
       "      <td>...</td>\n",
       "      <td>...</td>\n",
       "      <td>...</td>\n",
       "      <td>...</td>\n",
       "    </tr>\n",
       "    <tr>\n",
       "      <th>35907</th>\n",
       "      <td>Elk Springs Resort</td>\n",
       "      <td>5.0</td>\n",
       "      <td>Best of the Best!!!! My family and I stayed in...</td>\n",
       "      <td>Chelsa K.</td>\n",
       "    </tr>\n",
       "    <tr>\n",
       "      <th>35908</th>\n",
       "      <td>Elk Springs Resort</td>\n",
       "      <td>5.0</td>\n",
       "      <td>Amazing Vacation in Beautiful Cabin We stayed ...</td>\n",
       "      <td>Heather D.</td>\n",
       "    </tr>\n",
       "    <tr>\n",
       "      <th>35909</th>\n",
       "      <td>Elk Springs Resort</td>\n",
       "      <td>5.0</td>\n",
       "      <td>My husband and I stayed at Tree Tops which is ...</td>\n",
       "      <td>Carol W.</td>\n",
       "    </tr>\n",
       "    <tr>\n",
       "      <th>35910</th>\n",
       "      <td>Extended Stay America Grand Rapids - Kentwood</td>\n",
       "      <td>0.0</td>\n",
       "      <td>to share your opinion of this businesswith YP ...</td>\n",
       "      <td>write a review</td>\n",
       "    </tr>\n",
       "    <tr>\n",
       "      <th>35911</th>\n",
       "      <td>Extended Stay America Grand Rapids - Kentwood</td>\n",
       "      <td>0.0</td>\n",
       "      <td>xxxxxxxxxxxxxxxxxxxxxxxxxxxxxxxxxxxxxxxxxx</td>\n",
       "      <td>xxxxxxxxxxxxxx</td>\n",
       "    </tr>\n",
       "  </tbody>\n",
       "</table>\n",
       "<p>35026 rows × 4 columns</p>\n",
       "</div>"
      ],
      "text/plain": [
       "                                                name  ratings  \\\n",
       "0                                 Hotel Russo Palace      4.0   \n",
       "1                                 Hotel Russo Palace      5.0   \n",
       "2                                 Hotel Russo Palace      5.0   \n",
       "3                                 Hotel Russo Palace      5.0   \n",
       "4                                 Hotel Russo Palace      5.0   \n",
       "...                                              ...      ...   \n",
       "35907                             Elk Springs Resort      5.0   \n",
       "35908                             Elk Springs Resort      5.0   \n",
       "35909                             Elk Springs Resort      5.0   \n",
       "35910  Extended Stay America Grand Rapids - Kentwood      0.0   \n",
       "35911  Extended Stay America Grand Rapids - Kentwood      0.0   \n",
       "\n",
       "                                                 reviews        username  \n",
       "0      Pleasant 10 min walk along the sea front to th...     Russ (kent)  \n",
       "1      Really lovely hotel. Stayed on the very top fl...      A Traveler  \n",
       "2      Ett mycket bra hotell. Det som drog ner betyge...            Maud  \n",
       "3      We stayed here for four nights in October. The...           Julie  \n",
       "4      We stayed here for four nights in October. The...        sungchul  \n",
       "...                                                  ...             ...  \n",
       "35907  Best of the Best!!!! My family and I stayed in...       Chelsa K.  \n",
       "35908  Amazing Vacation in Beautiful Cabin We stayed ...      Heather D.  \n",
       "35909  My husband and I stayed at Tree Tops which is ...        Carol W.  \n",
       "35910  to share your opinion of this businesswith YP ...  write a review  \n",
       "35911         xxxxxxxxxxxxxxxxxxxxxxxxxxxxxxxxxxxxxxxxxx  xxxxxxxxxxxxxx  \n",
       "\n",
       "[35026 rows x 4 columns]"
      ]
     },
     "execution_count": 57,
     "metadata": {},
     "output_type": "execute_result"
    }
   ],
   "source": [
    "df.drop_duplicates(subset=['username'])\n",
    "df"
   ]
  },
  {
   "cell_type": "code",
   "execution_count": 59,
   "metadata": {},
   "outputs": [
    {
     "data": {
      "text/plain": [
       "<Axes: ylabel='Frequency'>"
      ]
     },
     "execution_count": 59,
     "metadata": {},
     "output_type": "execute_result"
    },
    {
     "data": {
      "image/png": "[encoded data removed]",
      "text/plain": [
       "<Figure size 640x480 with 1 Axes>"
      ]
     },
     "metadata": {},
     "output_type": "display_data"
    }
   ],
   "source": [
    "df['ratings'].plot(kind='hist')"
   ]
  },
  {
   "cell_type": "code",
   "execution_count": 60,
   "metadata": {},
   "outputs": [],
   "source": [
    "filtered_values = df.loc[df['ratings'] > 5, 'ratings']\n",
    "\n",
    "# Divide the filtered values by 2\n",
    "filtered_values_divided = filtered_values / 2\n",
    "\n",
    "# Update the original DataFrame with the new values\n",
    "df.loc[df['ratings'] > 5, 'ratings'] = filtered_values_divided"
   ]
  },
  {
   "cell_type": "code",
   "execution_count": 61,
   "metadata": {},
   "outputs": [],
   "source": [
    "df.loc[(df['ratings'] >= 4.5), 'ratings'] = 5.0\n",
    "\n",
    "df.loc[(df['ratings'] >= 3.5) & (df['ratings'] < 4.5), 'ratings'] = 4.0\n",
    "\n",
    "df.loc[(df['ratings'] >= 2.5) & (df['ratings'] < 3.5), 'ratings'] = 3.0\n",
    "\n",
    "df.loc[(df['ratings'] >= 1.5) & (df['ratings'] < 2.5), 'ratings'] = 2.0\n",
    "\n",
    "df.loc[(df['ratings'] >= 0.5) & (df['ratings'] < 1.5), 'ratings'] = 1.0\n",
    "\n",
    "df.loc[(df['ratings'] < 0.5), 'ratings'] = 0.0"
   ]
  },
  {
   "cell_type": "code",
   "execution_count": 67,
   "metadata": {},
   "outputs": [],
   "source": [
    "df = df[df['ratings'] != 0.0]"
   ]
  },
  {
   "cell_type": "code",
   "execution_count": 62,
   "metadata": {},
   "outputs": [
    {
     "data": {
      "image/png": "[encoded data removed]",
      "text/plain": [
       "<Figure size 1000x1000 with 1 Axes>"
      ]
     },
     "metadata": {},
     "output_type": "display_data"
    }
   ],
   "source": [
    "plt.figure(figsize=(10, 10))\n",
    "\n",
    "ax = sns.countplot(x=df['ratings'], data=df, order = df[\"ratings\"].value_counts().index)\n",
    "for p, label in zip(ax.patches, df[\"ratings\"].value_counts()):\n",
    "    ax.annotate(label, (p.get_x()+0.25, p.get_height()+0.5))"
   ]
  },
  {
   "cell_type": "code",
   "execution_count": null,
   "metadata": {},
   "outputs": [],
   "source": [
    "name_counts = df['name'].value_counts()\n",
    "filtered_name_counts = name_counts[name_counts < 101]\n",
    "# Plot the counts\n",
    "filtered_name_counts.plot(kind='bar')\n",
    "plt.xlabel('Name')\n",
    "plt.ylabel('Count')\n",
    "plt.title('Counts of Each Name (Below 100)')\n",
    "plt.show()\n"
   ]
  },
  {
   "cell_type": "code",
   "execution_count": null,
   "metadata": {},
   "outputs": [],
   "source": [
    "name_counts = df['name'].value_counts()\n",
    "filtered_name_counts = name_counts[(name_counts < 201) & (name_counts > 100)]\n",
    "# Plot the counts\n",
    "filtered_name_counts.plot(kind='bar')\n",
    "plt.xlabel('Name')\n",
    "plt.ylabel('Count')\n",
    "plt.title('Counts of Each Name (Between 100 & 200)')\n",
    "plt.show()\n"
   ]
  },
  {
   "cell_type": "code",
   "execution_count": null,
   "metadata": {},
   "outputs": [],
   "source": [
    "name_counts = df['name'].value_counts()\n",
    "filtered_name_counts = name_counts[(name_counts < 301) & (name_counts > 200)]\n",
    "# Plot the counts\n",
    "filtered_name_counts.plot(kind='bar')\n",
    "plt.xlabel('Name')\n",
    "plt.ylabel('Count')\n",
    "plt.title('Counts of Each Name (Between 200 & 300)')\n",
    "plt.show()"
   ]
  },
  {
   "cell_type": "code",
   "execution_count": null,
   "metadata": {},
   "outputs": [],
   "source": [
    "name_counts = df['name'].value_counts()\n",
    "filtered_name_counts = name_counts[name_counts > 300]\n",
    "# Plot the counts\n",
    "filtered_name_counts.plot(kind='bar')\n",
    "plt.xlabel('Name')\n",
    "plt.ylabel('Count')\n",
    "plt.title('Counts of Each Name (Above 300)')\n",
    "plt.show()"
   ]
  },
  {
   "cell_type": "markdown",
   "metadata": {},
   "source": [
    "# Data Preprocessing"
   ]
  },
  {
   "cell_type": "code",
   "execution_count": 65,
   "metadata": {},
   "outputs": [
    {
     "name": "stderr",
     "output_type": "stream",
     "text": [
      "[nltk_data] Downloading package stopwords to\n",
      "[nltk_data]     C:\\Users\\Cody\\AppData\\Roaming\\nltk_data...\n",
      "[nltk_data]   Package stopwords is already up-to-date!\n",
      "[nltk_data] Downloading package punkt to\n",
      "[nltk_data]     C:\\Users\\Cody\\AppData\\Roaming\\nltk_data...\n",
      "[nltk_data]   Package punkt is already up-to-date!\n",
      "[nltk_data] Downloading package wordnet to\n",
      "[nltk_data]     C:\\Users\\Cody\\AppData\\Roaming\\nltk_data...\n",
      "[nltk_data]   Package wordnet is already up-to-date!\n"
     ]
    },
    {
     "data": {
      "text/plain": [
       "True"
      ]
     },
     "execution_count": 65,
     "metadata": {},
     "output_type": "execute_result"
    }
   ],
   "source": [
    "#from googletrans import Translator\n",
    "\n",
    "#pip install -U deep-translator\n",
    "#pip install langdetect\n",
    "\n",
    "from deep_translator import GoogleTranslator\n",
    "from langdetect import detect\n",
    "from nltk.tokenize import word_tokenize\n",
    "from nltk.tokenize import sent_tokenize\n",
    "from nltk.stem import WordNetLemmatizer\n",
    "from nltk.corpus import stopwords\n",
    "import nltk\n",
    "import re\n",
    "\n",
    "nltk.download('stopwords')\n",
    "nltk.download('punkt')\n",
    "nltk.download('wordnet')"
   ]
  },
  {
   "cell_type": "code",
   "execution_count": 68,
   "metadata": {},
   "outputs": [],
   "source": [
    "df.to_csv('cleaned_hotel_review_data.csv', index=False)\n"
   ]
  },
  {
   "cell_type": "code",
   "execution_count": 69,
   "metadata": {},
   "outputs": [],
   "source": [
    "#remove stop words (words that have no meaning in the sentence) from the text (e.g. the, is, at, which, on, for, this, etc.)\n",
    "def remove_Stopwords(text):\n",
    "    stop_words = set(stopwords.words(\"english\"))\n",
    "    words = word_tokenize(text)\n",
    "    words = [word for word in words if word.lower() not in stop_words]\n",
    "    return \" \".join(words)\n",
    "\n",
    "#change word back to its original form\n",
    "def lemmatize_text(text):\n",
    "    wordlist = []\n",
    "    lemmatizer = WordNetLemmatizer()\n",
    "    sentences = sent_tokenize(text)\n",
    "    for sentence in sentences:\n",
    "        words = word_tokenize(sentence)\n",
    "        words = [lemmatizer.lemmatize(word) for word in words]\n",
    "        wordlist.append(\" \".join(words))\n",
    "    return \" \".join(wordlist)\n",
    "\n",
    "#remove special characters and punctuations from the text\n",
    "def clean_text(text):\n",
    "    delete_dic = {sp_character: \"\" for sp_character in string.punctuation}\n",
    "    delete_dic[\" \"] = \" \"\n",
    "    table = str.maketrans(delete_dic)\n",
    "    text1 = text.translate(table)\n",
    "    textArr = text1.split()\n",
    "    text2 = \" \".join([word for word in textArr])\n",
    "    return text2.lower()\n",
    "\n",
    "def translate_to_english(text):\n",
    "    try:\n",
    "        # Check if the text is not in English\n",
    "        if detect(text) != 'en':\n",
    "            # Translate the text to English\n",
    "            #type = detect(text)\n",
    "            #print(type)\n",
    "            translated_text = GoogleTranslator(source='auto', target='en').translate(text) \n",
    "            return translated_text\n",
    "        else:\n",
    "            #print(\"text in english\")\n",
    "            return text  # Return original text if already in English\n",
    "    except Exception as e:\n",
    "        print(f\"Error occurred during translation: {e}\")\n",
    "        return None"
   ]
  },
  {
   "cell_type": "code",
   "execution_count": 70,
   "metadata": {},
   "outputs": [
    {
     "name": "stderr",
     "output_type": "stream",
     "text": [
      "C:\\Users\\Cody\\AppData\\Local\\Temp\\ipykernel_22236\\4029632786.py:7: SettingWithCopyWarning: \n",
      "A value is trying to be set on a copy of a slice from a DataFrame.\n",
      "Try using .loc[row_indexer,col_indexer] = value instead\n",
      "\n",
      "See the caveats in the documentation: https://pandas.pydata.org/pandas-docs/stable/user_guide/indexing.html#returning-a-view-versus-a-copy\n",
      "  df['sentiment'] = 'neutral'  # Default all values to 'neutral'\n"
     ]
    }
   ],
   "source": [
    "# Create masks for positive, negative, and neutral ratings\n",
    "negative_mask = (df['ratings'] == 0.0)|(df['ratings'] == 1.0) | (df['ratings'] == 2.0)\n",
    "positive_mask = (df['ratings'] == 4.0) | (df['ratings'] == 5.0)\n",
    "neutral_mask = (df['ratings'] == 3.0)\n",
    "\n",
    "# Add a new column 'sentiment' to the DataFrame and assign values based on the masks\n",
    "df['sentiment'] = 'neutral'  # Default all values to 'neutral'\n",
    "df.loc[negative_mask, 'sentiment'] = 'negative'\n",
    "df.loc[positive_mask, 'sentiment'] = 'positive'"
   ]
  },
  {
   "cell_type": "code",
   "execution_count": 71,
   "metadata": {},
   "outputs": [
    {
     "name": "stdout",
     "output_type": "stream",
     "text": [
      "Error occurred during translation: No features in text.\n",
      "Error occurred during translation: No features in text.\n",
      "Error occurred during translation: No features in text.\n",
      "Error occurred during translation: No features in text.\n",
      "Error occurred during translation: No features in text.\n",
      "Error occurred during translation: No features in text.\n",
      "Error occurred during translation: No features in text.\n",
      "Error occurred during translation: No features in text.\n",
      "Error occurred during translation: No features in text.\n",
      "Error occurred during translation: No features in text.\n",
      "Error occurred during translation: No features in text.\n",
      "Error occurred during translation: No features in text.\n",
      "Error occurred during translation: No features in text.\n",
      "Error occurred during translation: No features in text.\n",
      "Error occurred during translation: No features in text.\n",
      "Error occurred during translation: No features in text.\n",
      "Error occurred during translation: No features in text.\n",
      "Error occurred during translation: No features in text.\n",
      "Error occurred during translation: No features in text.\n",
      "Error occurred during translation: No features in text.\n",
      "Error occurred during translation: No features in text.\n",
      "Error occurred during translation: No features in text.\n",
      "Error occurred during translation: No features in text.\n",
      "Error occurred during translation: No features in text.\n",
      "Error occurred during translation: No features in text.\n",
      "Error occurred during translation: No features in text.\n",
      "Error occurred during translation: No features in text.\n",
      "Error occurred during translation: No features in text.\n"
     ]
    }
   ],
   "source": [
    "\n",
    "df['reviews'] = df['reviews'].apply(translate_to_english)\n"
   ]
  },
  {
   "cell_type": "code",
   "execution_count": null,
   "metadata": {},
   "outputs": [],
   "source": [
    "df.dropna(subset=['reviews'], inplace=True)"
   ]
  },
  {
   "cell_type": "code",
   "execution_count": null,
   "metadata": {},
   "outputs": [],
   "source": [
    "df['reviews'] = df['reviews'].apply(clean_text)\n",
    "df['reviews'] = df['reviews'].apply(remove_Stopwords)\n",
    "df['reviews'] = df['reviews'].apply(lemmatize_text)"
   ]
  },
  {
   "cell_type": "code",
   "execution_count": null,
   "metadata": {},
   "outputs": [],
   "source": [
    "df['reviews']"
   ]
  },
  {
   "cell_type": "markdown",
   "metadata": {},
   "source": [
    "# VADAR"
   ]
  },
  {
   "cell_type": "code",
   "execution_count": null,
   "metadata": {},
   "outputs": [],
   "source": [
    "# 1. Import the necessary libraries\n",
    "import nltk\n",
    "nltk.download('vader_lexicon')  # Download the VADER lexicon\n",
    "from nltk.sentiment.vader import SentimentIntensityAnalyzer\n",
    "import pandas as pd\n",
    "\n",
    "\n",
    "\n",
    "# 2. Initialize the VADER sentiment analyzer\n",
    "sid = SentimentIntensityAnalyzer()\n",
    "\n",
    "# 3. Iterate through each review text, calculate sentiment scores, and store the results in a new column\n",
    "df['sentiment_scores'] = df['reviews'].apply(lambda x: sid.polarity_scores(x))\n",
    "\n",
    "# Extract compound scores from the sentiment scores\n",
    "df['compound_score'] = df['sentiment_scores'].apply(lambda x: x['compound'])\n",
    "\n",
    "# Classify sentiment based on compound score\n",
    "df['sentiment'] = df['compound_score'].apply(lambda score: 'positive' if score >= 0.05 else ('negative' if score <= -0.05 else 'neutral'))\n",
    "\n",
    "# Display the DataFrame with sentiment analysis results\n",
    "print(df[['reviews', 'compound_score', 'sentiment']])\n"
   ]
  },
  {
   "cell_type": "code",
   "execution_count": null,
   "metadata": {},
   "outputs": [],
   "source": [
    "# Save the DataFrame to a new CSV file\n",
    "# df.to_csv('sentiment_analysis_results.csv', index=False)\n"
   ]
  },
  {
   "cell_type": "code",
   "execution_count": null,
   "metadata": {},
   "outputs": [],
   "source": [
    "def compare_sentiment_with_ratings(df):\n",
    "    # Define sentiment based on ratings\n",
    "    df['actual_sentiment'] = df['ratings'].apply(lambda x: 'positive' if x >= 4 else ('negative' if x <= 2 else 'neutral'))\n",
    "    \n",
    "    # Compare sentiment assigned by model with actual sentiment\n",
    "    df['correct_prediction'] = df['sentiment'] == df['actual_sentiment']\n",
    "    \n",
    "    # Calculate accuracy\n",
    "    accuracy = df['correct_prediction'].mean() * 100\n",
    "    \n",
    "    # Print accuracy\n",
    "    print(f\"Accuracy: {accuracy:.2f}%\")\n",
    "    \n",
    "    # Return DataFrame with comparison results\n",
    "    return df\n",
    "\n",
    "# Call the function with your DataFrame\n",
    "df = compare_sentiment_with_ratings(df)\n"
   ]
  }
 ],
 "metadata": {
  "kernelspec": {
   "display_name": "Python 3",
   "language": "python",
   "name": "python3"
  },
  "language_info": {
   "codemirror_mode": {
    "name": "ipython",
    "version": 3
   },
   "file_extension": ".py",
   "mimetype": "text/x-python",
   "name": "python",
   "nbconvert_exporter": "python",
   "pygments_lexer": "ipython3",
   "version": "3.11.8"
  }
 },
 "nbformat": 4,
 "nbformat_minor": 2
}
