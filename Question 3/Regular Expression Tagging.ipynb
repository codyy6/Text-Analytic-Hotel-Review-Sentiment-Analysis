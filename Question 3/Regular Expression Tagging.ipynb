{
 "cells": [
  {
   "cell_type": "code",
   "execution_count": 7,
   "id": "5a44b76e",
   "metadata": {},
   "outputs": [
    {
     "name": "stdout",
     "output_type": "stream",
     "text": [
      "[('The', 'DT'), ('big', 'JJ'), ('black', 'JJ'), ('dog', 'NN'), ('barked', 'VBD'), ('at', 'IN'), ('the', 'DT'), ('white', 'JJ'), ('cat', 'NN'), ('and', 'CC'), ('chased', 'VBD'), ('away', 'RB'), ('.', '.')]\n"
     ]
    }
   ],
   "source": [
    "import nltk\n",
    "\n",
    "from nltk.tokenize import word_tokenize\n",
    "\n",
    "#Defining the patterns to be used in tagger\n",
    "patterns = [\n",
    "    (r'\\b(?:is|was|were|am|are)\\b', 'VB'),     # linking verbs\n",
    "    (r'\\b(?:must|should|could|would|can|might)\\b', 'MD'),  # modals\n",
    "    (r'\\b(?:a|A|an|An|the|The)\\b', 'DT'),               # articles\n",
    "    (r'\\b(?:big|black|white)\\b', 'JJ'),        # adjectives\n",
    "    (r'\\b(?:dog|cat)\\b', 'NN'),                # nouns\n",
    "    (r'\\b(?:bark|chased)\\b', 'VBD'),           # past tense verbs\n",
    "    (r'\\b(?:at)\\b', 'IN'),                     # prepositions\n",
    "    (r'\\b(?:and)\\b', 'CC'),                    # conjunctions\n",
    "    (r'\\b(?:away)\\b', 'RB'),                   # adverbs\n",
    "    (r'\\b(?:\\w+ing)\\b', 'VBG'),                # gerunds\n",
    "    (r'\\b(?:\\w+ly)\\b', 'RB'),                  # adverbs\n",
    "    (r'\\b(?:\\w+s)\\b', 'NNS'),                  # plural nouns\n",
    "    (r'\\b(?:\\w+ed)\\b', 'VBD'),                 # past tense verbs\n",
    "    (r'\\b(?:\\w+tion)\\b', 'NN'),                # nouns ending with -tion\n",
    "    (r'\\b(?:\\w+ness)\\b', 'NN'),                # nouns ending with -ness\n",
    "    (r'\\b(?:\\w+ment)\\b', 'NN'),                # nouns ending with -ment\n",
    "    (r'\\b(?:\\w+ive)\\b', 'JJ'),                 # adjectives ending with -ive\n",
    "    (r'\\b(?:\\w+ly)\\b', 'RB'),                  # adverbs ending with -ly\n",
    "    (r'\\b(?:\\w+est)\\b', 'JJ'),                 # adjectives ending with -est\n",
    "    (r'\\b(?:\\w+er)\\b', 'JJR'),                 # adjectives ending with -er\n",
    "    (r'^-?[0-9]+(\\.[0-9]+)?$', 'CD'),          # cardinal numbers\n",
    "    (r'\\b(?:\\w+\\'\\w+)\\b', 'NN'),               # possessive nouns\n",
    "    (r'[^\\w\\s]', '.'),                         # punctuation    \n",
    "    (r'\\b(?:\\w+)\\b', 'NN')                     # default noun\n",
    "]\n",
    "\n",
    "\n",
    "#Creating sequential regex tagger with same patterns\n",
    "regex_seqtagger = nltk.tag.sequential.RegexpTagger(patterns)\n",
    "\n",
    "#Get text from text file provided\n",
    "f = open('Data_2.txt', encoding=\"utf8\")\n",
    "file = f.read()\n",
    "\n",
    "#Tokenize text into words\n",
    "text = word_tokenize(file)\n",
    "\n",
    "#Print the text where its tokens have been tagged\n",
    "print(regex_seqtagger.tag(text))\n"
   ]
  }
 ],
 "metadata": {
  "kernelspec": {
   "display_name": "Python 3 (ipykernel)",
   "language": "python",
   "name": "python3"
  },
  "language_info": {
   "codemirror_mode": {
    "name": "ipython",
    "version": 3
   },
   "file_extension": ".py",
   "mimetype": "text/x-python",
   "name": "python",
   "nbconvert_exporter": "python",
   "pygments_lexer": "ipython3",
   "version": "3.10.9"
  }
 },
 "nbformat": 4,
 "nbformat_minor": 5
}
