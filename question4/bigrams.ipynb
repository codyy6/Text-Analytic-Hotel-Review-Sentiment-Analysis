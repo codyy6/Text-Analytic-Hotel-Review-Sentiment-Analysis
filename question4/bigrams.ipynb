{
 "cells": [
  {
   "cell_type": "markdown",
   "metadata": {},
   "source": [
    "### Bigrams and trigrams "
   ]
  },
  {
   "cell_type": "markdown",
   "metadata": {},
   "source": [
    "#### Data cleaning"
   ]
  },
  {
   "cell_type": "code",
   "execution_count": 1,
   "metadata": {},
   "outputs": [],
   "source": [
    "# import nltk\n",
    "# from nltk.tokenize import word_tokenize\n",
    "\n",
    "# nltk.download('punkt')\n",
    "\n",
    "# # Sample corpus\n",
    "# corpus = [\n",
    "#     \"<s> He read a book </s>\",\n",
    "#     \"<s> I read a different book </s>\",\n",
    "#     \"<s> He read a book by Danielle </s>\"\n",
    "# ]\n",
    "\n",
    "# # Tokenizing and removing sentence pads\n",
    "# tokenized_sentences = [word_tokenize(sentence.replace(\"<s>\", \"\").replace(\"</s>\", \"\").strip()) for sentence in corpus]\n",
    "# print(tokenized_sentences)\n"
   ]
  },
  {
   "cell_type": "code",
   "execution_count": 4,
   "metadata": {},
   "outputs": [
    {
     "name": "stdout",
     "output_type": "stream",
     "text": [
      "Unsmoothed Bigram Model Probability: 0.0740740741\n",
      "Smoothed Bigram Model Probability: 0.0000057846\n"
     ]
    },
    {
     "name": "stderr",
     "output_type": "stream",
     "text": [
      "[nltk_data] Downloading package punkt to /Users/aymanadil/nltk_data...\n",
      "[nltk_data]   Package punkt is already up-to-date!\n"
     ]
    }
   ],
   "source": [
    "import nltk\n",
    "from nltk.tokenize import regexp_tokenize\n",
    "from nltk import bigrams, ConditionalFreqDist\n",
    "\n",
    "# ensure necessary NLTK resources are downloaded\n",
    "nltk.download('punkt')\n",
    "\n",
    "# training corpus\n",
    "corpus = [\n",
    "    \"<s> He read a book </s>\",\n",
    "    \"<s> I read a different book </s>\",\n",
    "    \"<s> He read a book by Danielle </s>\"\n",
    "\n",
    "\n",
    "# define a tokenization pattern to include <s>, </s>, and words\n",
    "pattern = r'(<s>|</s>|\\w+)'\n",
    "\n",
    "# tokenize the sentences using the defined pattern\n",
    "tokenized_sentences = [regexp_tokenize(sentence, pattern) for sentence in corpus]\n",
    "\n",
    "# Preparing data for bigram model\n",
    "all_bigrams = [bigram for sentence in tokenized_sentences for bigram in bigrams(sentence)]\n",
    "bigram_freq_dist = ConditionalFreqDist(all_bigrams)\n",
    "vocabulary = set([word for sentence in tokenized_sentences for word in sentence])\n",
    "\n",
    "# sentence to calculate probability for, this will be tokenized in the same manner\n",
    "test_sentence = \"<s> I read a book by Danielle </s>\"\n",
    "tokenized_test_sentence = regexp_tokenize(test_sentence, pattern)\n",
    "\n",
    "test_bigrams = list(bigrams(tokenized_test_sentence))\n",
    "\n",
    "# function to calculate probabilities\n",
    "def calculate_probability(bigram_freq_dist, test_bigrams, vocabulary, smoothed=False):\n",
    "    probability = 1\n",
    "    vocab_size = len(vocabulary)  # getting vocab size for smoothing\n",
    "\n",
    "    for bigram in test_bigrams:\n",
    "        word1, word2 = bigram\n",
    "        word1_count = sum(bigram_freq_dist[word1].values())\n",
    "        bigram_count = bigram_freq_dist[word1][word2]\n",
    "        if smoothed:\n",
    "            # add-one smoothing\n",
    "            probability *= (bigram_count + 1) / (word1_count + vocab_size + 1)\n",
    "        else:\n",
    "            # unsmoothed model, handling case where word1_count is 0\n",
    "            probability *= bigram_count / word1_count if word1_count else 0\n",
    "    return probability\n",
    "\n",
    "# calculating probabilities\n",
    "unsmoothed_probability = calculate_probability(bigram_freq_dist, test_bigrams, vocabulary)\n",
    "smoothed_probability = calculate_probability(bigram_freq_dist, test_bigrams, vocabulary, smoothed=True)\n",
    "\n",
    "print(\"Unsmoothed Bigram Model Probability: {:.10f}\".format(unsmoothed_probability))\n",
    "print(\"Smoothed Bigram Model Probability: {:.10f}\".format(smoothed_probability))\n"
   ]
  },
  {
   "cell_type": "code",
   "execution_count": 1,
   "metadata": {},
   "outputs": [
    {
     "name": "stderr",
     "output_type": "stream",
     "text": [
      "[nltk_data] Downloading package punkt to /Users/aymanadil/nltk_data...\n",
      "[nltk_data]   Package punkt is already up-to-date!\n",
      "[nltk_data] Downloading package averaged_perceptron_tagger to\n",
      "[nltk_data]     /Users/aymanadil/nltk_data...\n",
      "[nltk_data]   Unzipping taggers/averaged_perceptron_tagger.zip.\n",
      "[nltk_data] Downloading package punkt to /Users/aymanadil/nltk_data...\n",
      "[nltk_data]   Package punkt is already up-to-date!\n"
     ]
    }
   ],
   "source": [
    "import nltk\n",
    "import string\n",
    "import tkinter\n",
    "nltk.download('punkt')\n",
    "nltk.download('averaged_perceptron_tagger')\n",
    "from nltk import pos_tag, word_tokenize, RegexpParser\n",
    "\n",
    "\n",
    "# Download necessary NLTK models and corpora\n",
    "nltk.download('punkt')\n",
    "\n",
    "chunker = RegexpParser(\"\"\"\n",
    "                    NP: {<DT>?<JJ>*<NN>} #To extract Noun Phrases\n",
    "                    P: {<IN>}            #To extract Prepositions\n",
    "                    V: {<V.*>}           #To extract Verbs\n",
    "                    PP: {<p> <NP>}       #To extract Prepositional Phrases\n",
    "                    VP: {<V> <NP|PP>*}   #To extract Verb Phrases\n",
    "                    \"\"\")\n",
    "\n",
    "\n",
    "\n",
    "sentence = \"The big black dog barked at the white cat and chased away.\"\n",
    "\n",
    "cleaned_sentence = sentence.lower().translate(str.maketrans('', '', string.punctuation))\n",
    "\n",
    "tagged = pos_tag(word_tokenize(cleaned_sentence))\n",
    "output = chunker.parse(tagged)\n",
    "\n",
    "output.draw()\n"
   ]
  },
  {
   "cell_type": "code",
   "execution_count": null,
   "metadata": {},
   "outputs": [],
   "source": []
  },
  {
   "cell_type": "code",
   "execution_count": null,
   "metadata": {},
   "outputs": [],
   "source": []
  },
  {
   "cell_type": "code",
   "execution_count": null,
   "metadata": {},
   "outputs": [],
   "source": []
  },
  {
   "cell_type": "code",
   "execution_count": null,
   "metadata": {},
   "outputs": [],
   "source": []
  },
  {
   "cell_type": "code",
   "execution_count": null,
   "metadata": {},
   "outputs": [],
   "source": []
  },
  {
   "cell_type": "code",
   "execution_count": null,
   "metadata": {},
   "outputs": [],
   "source": []
  },
  {
   "cell_type": "code",
   "execution_count": null,
   "metadata": {},
   "outputs": [],
   "source": []
  },
  {
   "cell_type": "code",
   "execution_count": null,
   "metadata": {},
   "outputs": [],
   "source": []
  },
  {
   "cell_type": "code",
   "execution_count": null,
   "metadata": {},
   "outputs": [],
   "source": []
  },
  {
   "cell_type": "code",
   "execution_count": null,
   "metadata": {},
   "outputs": [],
   "source": []
  },
  {
   "cell_type": "code",
   "execution_count": null,
   "metadata": {},
   "outputs": [],
   "source": []
  },
  {
   "cell_type": "code",
   "execution_count": 6,
   "metadata": {},
   "outputs": [
    {
     "name": "stdout",
     "output_type": "stream",
     "text": [
      "['The', 'big', 'black', 'dog', 'barked', 'at', 'the', 'white', 'cat', 'and', 'chased', 'away']\n"
     ]
    },
    {
     "ename": "NameError",
     "evalue": "name 'tree' is not defined",
     "output_type": "error",
     "traceback": [
      "\u001b[0;31m---------------------------------------------------------------------------\u001b[0m",
      "\u001b[0;31mNameError\u001b[0m                                 Traceback (most recent call last)",
      "Cell \u001b[0;32mIn[6], line 26\u001b[0m\n\u001b[1;32m     24\u001b[0m \u001b[38;5;28;01mfor\u001b[39;00m tree \u001b[38;5;129;01min\u001b[39;00m parser\u001b[38;5;241m.\u001b[39mparse(text1):\n\u001b[1;32m     25\u001b[0m     \u001b[38;5;28mprint\u001b[39m(tree)\n\u001b[0;32m---> 26\u001b[0m \u001b[43mtree\u001b[49m\u001b[38;5;241m.\u001b[39mdraw()\n",
      "\u001b[0;31mNameError\u001b[0m: name 'tree' is not defined"
     ]
    }
   ],
   "source": [
    "import nltk\n",
    "import string\n",
    "\n",
    "text2 = nltk.CFG.fromstring(\"\"\"\n",
    "        S -> NP VP\n",
    "        NP -> Det Adj N | Det N | Det Adj N PP\n",
    "        VP -> V NP | V NP PP\n",
    "        PP -> P NP\n",
    "        Det -> 'The' | 'the'\n",
    "        Adj -> 'big' | 'black' | 'white'\n",
    "        N -> 'dog' | 'cat'\n",
    "        V -> 'barked' | 'chased'\n",
    "        P -> 'at'\n",
    "        CC -> 'and'\n",
    "        Adv -> 'away'\n",
    "    \"\"\")\n",
    "\n",
    "sentence = \"The big black dog barked at the white cat and chased away.\"\n",
    "cleaned_sentence = sentence.translate(str.maketrans('', '', string.punctuation))\n",
    "text1 = nltk.word_tokenize(cleaned_sentence)\n",
    "print(text1)\n",
    "parser = nltk.ChartParser(text2)\n",
    "\n",
    "for tree in parser.parse(text1):\n",
    "    print(tree)\n",
    "tree.draw()\n"
   ]
  },
  {
   "cell_type": "code",
   "execution_count": null,
   "metadata": {},
   "outputs": [],
   "source": []
  },
  {
   "cell_type": "code",
   "execution_count": null,
   "metadata": {},
   "outputs": [],
   "source": []
  }
 ],
 "metadata": {
  "kernelspec": {
   "display_name": "textAnalysis",
   "language": "python",
   "name": "python3"
  },
  "language_info": {
   "codemirror_mode": {
    "name": "ipython",
    "version": 3
   },
   "file_extension": ".py",
   "mimetype": "text/x-python",
   "name": "python",
   "nbconvert_exporter": "python",
   "pygments_lexer": "ipython3",
   "version": "3.10.13"
  }
 },
 "nbformat": 4,
 "nbformat_minor": 2
}
